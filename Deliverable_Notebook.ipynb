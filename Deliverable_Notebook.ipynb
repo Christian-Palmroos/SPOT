{
 "cells": [
  {
   "cell_type": "markdown",
   "id": "033738d8",
   "metadata": {},
   "source": [
    "# First import the necessary library"
   ]
  },
  {
   "cell_type": "code",
   "execution_count": 1,
   "id": "148466c5",
   "metadata": {},
   "outputs": [],
   "source": [
    "from onset_functions import *\n",
    "import onset_widgets as w"
   ]
  },
  {
   "cell_type": "markdown",
   "id": "dab5c8dc",
   "metadata": {},
   "source": [
    "# Choose the spacecraft, sensor, view direction and particle species:"
   ]
  },
  {
   "cell_type": "code",
   "execution_count": 2,
   "id": "2b7bef80",
   "metadata": {
    "tags": [
     "hide_code"
    ]
   },
   "outputs": [
    {
     "data": {
      "application/vnd.jupyter.widget-view+json": {
       "model_id": "197a3c4d25ac40488216ca06af708922",
       "version_major": 2,
       "version_minor": 0
      },
      "text/plain": [
       "Dropdown(description='Spacecraft:', options=('STEREO-A', 'STEREO-B', 'Solar Orbiter', 'SOHO'), value='STEREO-A…"
      ]
     },
     "metadata": {},
     "output_type": "display_data"
    },
    {
     "data": {
      "application/vnd.jupyter.widget-view+json": {
       "model_id": "09dc33abd2ba45d195d02e0ea91551ea",
       "version_major": 2,
       "version_minor": 0
      },
      "text/plain": [
       "Dropdown(description='Sensor:', options=('SEPT', 'HET'), value='SEPT')"
      ]
     },
     "metadata": {},
     "output_type": "display_data"
    },
    {
     "data": {
      "application/vnd.jupyter.widget-view+json": {
       "model_id": "37a0de795b2b4fe8955fad0982a94c4b",
       "version_major": 2,
       "version_minor": 0
      },
      "text/plain": [
       "Dropdown(description='Viewing:', options=('sun', 'asun', 'north', 'south'), value='sun')"
      ]
     },
     "metadata": {},
     "output_type": "display_data"
    },
    {
     "data": {
      "application/vnd.jupyter.widget-view+json": {
       "model_id": "28f954c2b54e48aaa9aae65602b845ae",
       "version_major": 2,
       "version_minor": 0
      },
      "text/plain": [
       "Dropdown(description='Species:', options=('protons', 'electrons'), value='protons')"
      ]
     },
     "metadata": {},
     "output_type": "display_data"
    }
   ],
   "source": [
    "display(w.spacecraft_drop, w.sensor_drop, w.view_drop, w.species_drop)"
   ]
  },
  {
   "cell_type": "markdown",
   "id": "954ef2b7",
   "metadata": {},
   "source": [
    "# Set the path to your data folder:"
   ]
  },
  {
   "cell_type": "code",
   "execution_count": 4,
   "id": "bc5ea83c",
   "metadata": {},
   "outputs": [],
   "source": [
    "# Path for the downloaded data\n",
    "data_path = f\"{os.getcwd()}\""
   ]
  },
  {
   "cell_type": "markdown",
   "id": "9b4c2e5b",
   "metadata": {},
   "source": [
    "# Confirm that the input is correct (needs to be run):"
   ]
  },
  {
   "cell_type": "code",
   "execution_count": 11,
   "id": "e3a838d9",
   "metadata": {},
   "outputs": [
    {
     "name": "stdout",
     "output_type": "stream",
     "text": [
      "You've chosen the following options:\n",
      "Spacecraft: STEREO-B\n",
      "Sensor: SEPT\n",
      "Species: protons\n",
      "Viewing: sun\n",
      "Event_date: 20210720\n",
      "Data_path: /home/chospa/Documents/Github/SPOT\n",
      "Plot_path: /home/chospa/Documents/Github/SPOT\n"
     ]
    }
   ],
   "source": [
    "w.confirm_input(event_date, data_path, plot_path)"
   ]
  },
  {
   "cell_type": "markdown",
   "id": "5c36daed",
   "metadata": {},
   "source": [
    "# Choose time range for data loading, and create the Event object:"
   ]
  },
  {
   "cell_type": "code",
   "execution_count": 5,
   "id": "a8703956",
   "metadata": {
    "scrolled": false,
    "tags": []
   },
   "outputs": [],
   "source": [
    "# Format of date: year, month, day\n",
    "startdate = datetime.date(2021, 7, 20)\n",
    "enddate = datetime.date(2021, 7, 21)\n",
    "\n",
    "# Get event data:\n",
    "event_onset = Event(spacecraft=w.spacecraft_drop.value, sensor=w.sensor_drop.value, \n",
    "                    data_level='l2', species = w.species_drop.value,\n",
    "                    start_date=startdate, end_date=enddate, \n",
    "                    data_path=data_path)"
   ]
  },
  {
   "cell_type": "markdown",
   "id": "11c591be",
   "metadata": {},
   "source": [
    "# Set the averaging period and background start and length in hours (e.g. 3, 8.1)"
   ]
  },
  {
   "cell_type": "code",
   "execution_count": 6,
   "id": "0acbcd61",
   "metadata": {},
   "outputs": [],
   "source": [
    "# Use pandas-compatible resampling period string, e.g. '10min' or '30s'\n",
    "# Leave to None to not resample data\n",
    "averaging = None #\"2min\"\n",
    "\n",
    "# Set the time range for what is considered the background preceding the event:\n",
    "# Format of datetime: year, month, day, hour, minute, second\n",
    "background_range = (datetime.datetime(2021, 7, 20, 1, 0, 0), \n",
    "                    datetime.datetime(2021, 7, 20, 11, 0, 0))\n",
    "\n",
    "# Set the channel(s) to plot:\n",
    "channels = 2\n",
    "\n",
    "# Set the time range for the plot:\n",
    "plot_range = [datetime.datetime(2021, 7, 20, 0),datetime.datetime(2021, 7, 21, 23)]"
   ]
  },
  {
   "cell_type": "markdown",
   "id": "d3ea3f29",
   "metadata": {},
   "source": [
    "# Run the cell to produce a plot"
   ]
  },
  {
   "cell_type": "code",
   "execution_count": 8,
   "id": "2179d683",
   "metadata": {
    "scrolled": false
   },
   "outputs": [
    {
     "name": "stdout",
     "output_type": "stream",
     "text": [
      "##### >Energy channels< #####\n",
      "0.0348 - 0.0380 MeV\n",
      "#############################\n",
      "\n",
      "##### >Flux peak< #####\n",
      "                                        flux\n",
      "Time                                        \n",
      "2021-07-20 04:43:50.462589568  121359.226562\n",
      "2021-07-20 11:12:14.501903488  121359.226562\n",
      "2021-07-20 18:18:46.545077504  121359.226562\n",
      "2021-07-21 05:05:20.610523136  121359.226562\n",
      "#######################\n",
      "\n",
      "##### >Onset time< #####\n",
      "NaT\n",
      "########################\n",
      "\n",
      "##### >Mean of background intensity< #####\n",
      "5326.469\n",
      "##########################################\n",
      "\n",
      "##### >Std of background intensity< #####\n",
      "12769.014\n",
      "#########################################\n",
      "\n",
      "##### >Particle species< #####\n",
      "electrons\n",
      "##############################\n",
      "\n"
     ]
    },
    {
     "data": {
      "image/png": "[encoded data removed]",
      "text/plain": [
       "<Figure size 1152x576 with 1 Axes>"
      ]
     },
     "metadata": {
      "needs_background": "light"
     },
     "output_type": "display_data"
    }
   ],
   "source": [
    "flux, onset_stats, onset_found, peak_flux, peak_time, fig, bg_mean = event_onset.analyse(viewing=w.view_drop.value, background_range=background_range, channels=channels,\n",
    "                                                                                         resample_period=averaging, yscale='log', cusum_window=30, xlim=plot_range)\n",
    "onset = onset_stats[-1]\n",
    "peak_flux = peak_flux.values[0]\n",
    "output = event_onset.output"
   ]
  },
  {
   "cell_type": "markdown",
   "id": "9c1269d4",
   "metadata": {},
   "source": [
    "# output is a dictionary, that contains 'flux_series', 'onset_stats', 'onset_found', 'onset', 'peak_flux', 'peak_time', 'fig' and 'bg_mean'"
   ]
  },
  {
   "cell_type": "code",
   "execution_count": 9,
   "id": "b732278a",
   "metadata": {},
   "outputs": [
    {
     "name": "stdout",
     "output_type": "stream",
     "text": [
      "Onset: NaT\n",
      "Peak flux: 1.21e+05\n",
      "Peak time: 2021-07-20 04:43:50.462589568\n",
      "Bg mean: 5.33e+03\n"
     ]
    }
   ],
   "source": [
    "print(f\"Onset: {output['onset']}\")\n",
    "print(f\"Peak flux: {output['peak_flux']:.2e}\")\n",
    "print(f\"Peak time: {output['peak_time']}\")\n",
    "print(f\"Bg mean: {output['bg_mean']:.2e}\")"
   ]
  },
  {
   "cell_type": "markdown",
   "id": "08f5c653",
   "metadata": {},
   "source": [
    "# Saving figures"
   ]
  },
  {
   "cell_type": "code",
   "execution_count": 10,
   "id": "41a507ee",
   "metadata": {},
   "outputs": [
    {
     "ename": "AttributeError",
     "evalue": "module 'onset_widgets' has no attribute 'input_dict'",
     "output_type": "error",
     "traceback": [
      "\u001b[0;31m---------------------------------------------------------------------------\u001b[0m",
      "\u001b[0;31mAttributeError\u001b[0m                            Traceback (most recent call last)",
      "\u001b[0;32m/tmp/ipykernel_23424/496180115.py\u001b[0m in \u001b[0;36m<module>\u001b[0;34m\u001b[0m\n\u001b[1;32m      6\u001b[0m \u001b[0;34m\u001b[0m\u001b[0m\n\u001b[1;32m      7\u001b[0m \u001b[0;31m# Use a pre-generated name for the file:\u001b[0m\u001b[0;34m\u001b[0m\u001b[0;34m\u001b[0m\u001b[0m\n\u001b[0;32m----> 8\u001b[0;31m \u001b[0mfile_name\u001b[0m \u001b[0;34m=\u001b[0m \u001b[0;34mf\"{w.input_dict['Plot_path']}{os.sep}{w.input_dict['Spacecraft']}_{w.input_dict['Sensor']}_{w.input_dict['Species']}_{event_date}_{averaging}.png\"\u001b[0m\u001b[0;34m\u001b[0m\u001b[0;34m\u001b[0m\u001b[0m\n\u001b[0m\u001b[1;32m      9\u001b[0m \u001b[0;34m\u001b[0m\u001b[0m\n\u001b[1;32m     10\u001b[0m \u001b[0;31m# Or type your own here:\u001b[0m\u001b[0;34m\u001b[0m\u001b[0;34m\u001b[0m\u001b[0m\n",
      "\u001b[0;31mAttributeError\u001b[0m: module 'onset_widgets' has no attribute 'input_dict'"
     ]
    }
   ],
   "source": [
    "# Path to save the plots\n",
    "plot_path = f'{os.getcwd()}'\n",
    "\n",
    "# Date of the event as an integer YYYYMMDD (used for generating the default figure name)\n",
    "event_date = 20210720\n",
    "\n",
    "# Use a pre-generated name for the file:\n",
    "file_name = f\"{w.plot_path}{os.sep}{w.spacecraft_drop.value}_{w.sensor_drop.value}_{w.species_drop.value}_{event_date}_{averaging}.png\"\n",
    "\n",
    "# Or type your own here:\n",
    "# file_name = \"\""
   ]
  },
  {
   "cell_type": "code",
   "execution_count": 19,
   "id": "d606e489",
   "metadata": {},
   "outputs": [
    {
     "name": "stdout",
     "output_type": "stream",
     "text": [
      "/home/chospa/Documents/Github/SPOT/sta_SEPT_p_20210720_5min.png\n"
     ]
    }
   ],
   "source": [
    "# Check that the name is right\n",
    "print(file_name)"
   ]
  },
  {
   "cell_type": "code",
   "execution_count": 17,
   "id": "9756d984",
   "metadata": {},
   "outputs": [],
   "source": [
    "#Save maximum peak flux plot\n",
    "fig.savefig(file_name, facecolor= 'white', transparent=False)"
   ]
  },
  {
   "cell_type": "code",
   "execution_count": null,
   "id": "83df1986",
   "metadata": {},
   "outputs": [],
   "source": []
  }
 ],
 "metadata": {
  "kernelspec": {
   "display_name": "Python 3 (ipykernel)",
   "language": "python",
   "name": "python3"
  },
  "language_info": {
   "codemirror_mode": {
    "name": "ipython",
    "version": 3
   },
   "file_extension": ".py",
   "mimetype": "text/x-python",
   "name": "python",
   "nbconvert_exporter": "python",
   "pygments_lexer": "ipython3",
   "version": "3.9.7"
  }
 },
 "nbformat": 4,
 "nbformat_minor": 5
}
