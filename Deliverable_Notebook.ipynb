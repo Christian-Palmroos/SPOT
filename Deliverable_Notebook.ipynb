{
 "cells": [
  {
   "cell_type": "markdown",
   "id": "033738d8",
   "metadata": {},
   "source": [
    "# First import the necessary library"
   ]
  },
  {
   "cell_type": "code",
   "execution_count": 1,
   "id": "148466c5",
   "metadata": {},
   "outputs": [],
   "source": [
    "from onset_functions import *\n",
    "import onset_widgets as w"
   ]
  },
  {
   "cell_type": "markdown",
   "id": "dab5c8dc",
   "metadata": {},
   "source": [
    "# Choose the spacecraft, sensor, view direction and particle species:"
   ]
  },
  {
   "cell_type": "code",
   "execution_count": 2,
   "id": "2b7bef80",
   "metadata": {
    "tags": [
     "hide_code"
    ]
   },
   "outputs": [
    {
     "data": {
      "application/vnd.jupyter.widget-view+json": {
       "model_id": "4183030fbb064a9e86265f9f76fefad4",
       "version_major": 2,
       "version_minor": 0
      },
      "text/plain": [
       "Dropdown(description='Spacecraft:', options=('STEREO-A', 'STEREO-B', 'Solar Orbiter', 'Bepicolombo', 'SOHO'), …"
      ]
     },
     "metadata": {},
     "output_type": "display_data"
    },
    {
     "data": {
      "application/vnd.jupyter.widget-view+json": {
       "model_id": "21bf141f14f04dc192a2577b823c9aae",
       "version_major": 2,
       "version_minor": 0
      },
      "text/plain": [
       "Dropdown(description='Sensor:', options=('LET', 'SEPT', 'HET'), value='LET')"
      ]
     },
     "metadata": {},
     "output_type": "display_data"
    },
    {
     "data": {
      "application/vnd.jupyter.widget-view+json": {
       "model_id": "f23cd5a704344a2ba1010bbeaedd4bb6",
       "version_major": 2,
       "version_minor": 0
      },
      "text/plain": [
       "Dropdown(description='Viewing:', disabled=True, options=(), value=None)"
      ]
     },
     "metadata": {},
     "output_type": "display_data"
    },
    {
     "data": {
      "application/vnd.jupyter.widget-view+json": {
       "model_id": "732c3bb121f14914a19b5599aa1cfc97",
       "version_major": 2,
       "version_minor": 0
      },
      "text/plain": [
       "Dropdown(description='Species:', options=('protons', 'electrons'), value='protons')"
      ]
     },
     "metadata": {},
     "output_type": "display_data"
    }
   ],
   "source": [
    "display(w.spacecraft_drop, w.sensor_drop, w.view_drop, w.species_drop)"
   ]
  },
  {
   "cell_type": "markdown",
   "id": "954ef2b7",
   "metadata": {},
   "source": [
    "# Optionally set the path to your data / plot folders:"
   ]
  },
  {
   "cell_type": "code",
   "execution_count": 3,
   "id": "bc5ea83c",
   "metadata": {},
   "outputs": [],
   "source": [
    "# Date of the event as an integer YYYYMMDD\n",
    "event_date = 20210720\n",
    "\n",
    "# Path for the downloaded data\n",
    "data_path = f\"{os.getcwd()}\"\n",
    "\n",
    "# Path to save plots\n",
    "plot_path = f'{os.getcwd()}'"
   ]
  },
  {
   "cell_type": "markdown",
   "id": "9b4c2e5b",
   "metadata": {},
   "source": [
    "# See that the input is correct:"
   ]
  },
  {
   "cell_type": "code",
   "execution_count": 4,
   "id": "e3a838d9",
   "metadata": {},
   "outputs": [
    {
     "name": "stdout",
     "output_type": "stream",
     "text": [
      "You've chosen the following options:\n",
      "Spacecraft: Solar Orbiter\n",
      "Sensor: EPT\n",
      "Species: protons\n",
      "Viewing: sun\n",
      "Event_date: 20210720\n",
      "Data_path: /home/chospa/Documents/Github/SPOT\n",
      "Plot_path: /home/chospa/Documents/Github/SPOT\n"
     ]
    }
   ],
   "source": [
    "w.confirm_input(event_date, data_path, plot_path)"
   ]
  },
  {
   "cell_type": "markdown",
   "id": "5c36daed",
   "metadata": {},
   "source": [
    "# Choose time range for data loading, and create the Event object:"
   ]
  },
  {
   "cell_type": "code",
   "execution_count": 5,
   "id": "a8703956",
   "metadata": {
    "scrolled": false,
    "tags": []
   },
   "outputs": [],
   "source": [
    "# Format of date: year, month, day\n",
    "startdate = datetime.date(2021, 7, 20)\n",
    "enddate = datetime.date(2021, 7, 21)\n",
    "\n",
    "# Get event data:\n",
    "event_onset = Event(spacecraft=w.input_dict[\"Spacecraft\"], sensor=w.input_dict[\"Sensor\"], \n",
    "                    data_level='l2', species = w.input_dict[\"Species\"],\n",
    "                    start_date=startdate, end_date=enddate, \n",
    "                    data_path=w.input_dict[\"Data_path\"])"
   ]
  },
  {
   "cell_type": "markdown",
   "id": "11c591be",
   "metadata": {},
   "source": [
    "# Set the averaging period and background start and length in hours (e.g. 3, 8.1)"
   ]
  },
  {
   "cell_type": "code",
   "execution_count": 6,
   "id": "0acbcd61",
   "metadata": {},
   "outputs": [],
   "source": [
    "# Use pandas-compatible resampling period string, e.g. '10min' or '30s'\n",
    "# Leave to None to not resample data\n",
    "averaging = None #\"2min\"\n",
    "\n",
    "# Set the time range for what is considered the background preceding the event:\n",
    "# Format of datetime: year, month, day, hour, minute, second\n",
    "background_range = (datetime.datetime(2021, 7, 20, 1, 0, 0), \n",
    "                    datetime.datetime(2021, 7, 20, 11, 0, 0))\n",
    "\n",
    "# Set the channel(s) to plot:\n",
    "channels = 2\n",
    "\n",
    "# Set the time range for the plot:\n",
    "plot_range = [datetime.datetime(2021, 7, 20, 0),datetime.datetime(2021, 7, 21, 23)]"
   ]
  },
  {
   "cell_type": "markdown",
   "id": "d3ea3f29",
   "metadata": {},
   "source": [
    "# Run the cell to produce a plot"
   ]
  },
  {
   "cell_type": "code",
   "execution_count": 7,
   "id": "2179d683",
   "metadata": {
    "scrolled": false
   },
   "outputs": [
    {
     "name": "stdout",
     "output_type": "stream",
     "text": [
      "##### >Energy channels< #####\n",
      "0.0548 - 0.0602 MeV\n",
      "#############################\n",
      "\n",
      "##### >Flux peak< #####\n",
      "                                      flux\n",
      "Time                                      \n",
      "2021-07-20 00:19:25.435825280  600708.8125\n",
      "#######################\n",
      "\n",
      "##### >Onset time< #####\n",
      "NaT\n",
      "########################\n",
      "\n",
      "##### >Mean of background intensity< #####\n",
      "121239.766\n",
      "##########################################\n",
      "\n",
      "##### >Std of background intensity< #####\n",
      "77938.07\n",
      "#########################################\n",
      "\n",
      "##### >Particle species< #####\n",
      "protons\n",
      "##############################\n",
      "\n"
     ]
    },
    {
     "data": {
      "image/png": "[encoded data removed]",
      "text/plain": [
       "<Figure size 1152x576 with 1 Axes>"
      ]
     },
     "metadata": {
      "needs_background": "light"
     },
     "output_type": "display_data"
    }
   ],
   "source": [
    "flux, onset_stats, onset_found, peak_flux, peak_time, fig, bg_mean = event_onset.analyse(viewing=w.input_dict[\"Viewing\"], background_range=background_range, channels=channels,\n",
    "                                                                                         resample_period=averaging, yscale='log', cusum_window=30, xlim=plot_range)\n",
    "onset = onset_stats[-1]\n",
    "peak_flux = peak_flux.values[0]\n",
    "output = event_onset.output"
   ]
  },
  {
   "cell_type": "markdown",
   "id": "9c1269d4",
   "metadata": {},
   "source": [
    "# output is a dictionary, that contains 'flux_series', 'onset_stats', 'onset_found', 'onset', 'peak_flux', 'peak_time', 'fig' and 'bg_mean'"
   ]
  },
  {
   "cell_type": "code",
   "execution_count": 8,
   "id": "b732278a",
   "metadata": {},
   "outputs": [
    {
     "name": "stdout",
     "output_type": "stream",
     "text": [
      "Onset: NaT\n",
      "Peak flux: 6.01e+05\n",
      "Peak time: 2021-07-20 00:19:25.435825280\n",
      "Bg mean: 1.21e+05\n"
     ]
    }
   ],
   "source": [
    "print(f\"Onset: {output['onset']}\")\n",
    "print(f\"Peak flux: {output['peak_flux']:.2e}\")\n",
    "print(f\"Peak time: {output['peak_time']}\")\n",
    "print(f\"Bg mean: {output['bg_mean']:.2e}\")"
   ]
  },
  {
   "cell_type": "markdown",
   "id": "08f5c653",
   "metadata": {},
   "source": [
    "# Saving figures"
   ]
  },
  {
   "cell_type": "code",
   "execution_count": 18,
   "id": "41a507ee",
   "metadata": {},
   "outputs": [],
   "source": [
    "# Use a pre-generated name for the file:\n",
    "file_name = f\"{w.input_dict['Plot_path']}{os.sep}{w.input_dict['Spacecraft']}_{w.input_dict['Sensor']}_{w.input_dict['Species']}_{event_date}_{averaging}.png\"\n",
    "\n",
    "# Or type your own here:\n",
    "# file_name = \"\""
   ]
  },
  {
   "cell_type": "code",
   "execution_count": 19,
   "id": "d606e489",
   "metadata": {},
   "outputs": [
    {
     "name": "stdout",
     "output_type": "stream",
     "text": [
      "/home/chospa/Documents/Github/SPOT/sta_SEPT_p_20210720_5min.png\n"
     ]
    }
   ],
   "source": [
    "# Check that the name is right\n",
    "print(file_name)"
   ]
  },
  {
   "cell_type": "code",
   "execution_count": 17,
   "id": "9756d984",
   "metadata": {},
   "outputs": [],
   "source": [
    "#Save maximum peak flux plot\n",
    "fig.savefig(file_name, facecolor= 'white', transparent=False)"
   ]
  },
  {
   "cell_type": "code",
   "execution_count": null,
   "id": "83df1986",
   "metadata": {},
   "outputs": [],
   "source": []
  }
 ],
 "metadata": {
  "kernelspec": {
   "display_name": "Python 3 (ipykernel)",
   "language": "python",
   "name": "python3"
  },
  "language_info": {
   "codemirror_mode": {
    "name": "ipython",
    "version": 3
   },
   "file_extension": ".py",
   "mimetype": "text/x-python",
   "name": "python",
   "nbconvert_exporter": "python",
   "pygments_lexer": "ipython3",
   "version": "3.9.7"
  }
 },
 "nbformat": 4,
 "nbformat_minor": 5
}
