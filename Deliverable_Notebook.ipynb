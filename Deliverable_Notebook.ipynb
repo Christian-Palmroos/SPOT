{
 "cells": [
  {
   "cell_type": "markdown",
   "id": "033738d8",
   "metadata": {},
   "source": [
    "# First import the necessary library"
   ]
  },
  {
   "cell_type": "code",
   "execution_count": 1,
   "id": "148466c5",
   "metadata": {},
   "outputs": [],
   "source": [
    "from onset_functions import *\n",
    "import onset_widgets as w"
   ]
  },
  {
   "cell_type": "markdown",
   "id": "2b3cd405",
   "metadata": {},
   "source": [
    "# Choose spacecraft:"
   ]
  },
  {
   "cell_type": "code",
   "execution_count": 2,
   "id": "76540749",
   "metadata": {},
   "outputs": [
    {
     "data": {
      "application/vnd.jupyter.widget-view+json": {
       "model_id": "5dc77cf8e67d4c908cde9ab8e94b1320",
       "version_major": 2,
       "version_minor": 0
      },
      "text/plain": [
       "Dropdown(description='Spacecraft:', options=('STEREO-A', 'STEREO-B', 'Solar Orbiter', 'Bepicolombo', 'SOHO'), …"
      ]
     },
     "metadata": {},
     "output_type": "display_data"
    }
   ],
   "source": [
    "display(w.spacecraft_dropdown())"
   ]
  },
  {
   "cell_type": "markdown",
   "id": "2f60317e",
   "metadata": {},
   "source": [
    "# Choose the sensor, particle species and viewing direction:"
   ]
  },
  {
   "cell_type": "code",
   "execution_count": 3,
   "id": "635c9c43",
   "metadata": {},
   "outputs": [
    {
     "data": {
      "application/vnd.jupyter.widget-view+json": {
       "model_id": "327a88b43ac84dc487471d9181695642",
       "version_major": 2,
       "version_minor": 0
      },
      "text/plain": [
       "Dropdown(description='Sensor:', options=('ERNE',), value='ERNE')"
      ]
     },
     "metadata": {},
     "output_type": "display_data"
    }
   ],
   "source": [
    "display(w.sensor_dropdown(w.spacecraft_drop.value))"
   ]
  },
  {
   "cell_type": "code",
   "execution_count": 4,
   "id": "1c1c5bc4",
   "metadata": {},
   "outputs": [
    {
     "data": {
      "application/vnd.jupyter.widget-view+json": {
       "model_id": "c2b95d4269624ff4983c3ee23e0cae86",
       "version_major": 2,
       "version_minor": 0
      },
      "text/plain": [
       "Dropdown(description='Species:', options=('p', 'e'), value='p')"
      ]
     },
     "metadata": {},
     "output_type": "display_data"
    }
   ],
   "source": [
    "display(w.species_dropdown((w.spacecraft_drop.value,w.sensor_drop.value)))"
   ]
  },
  {
   "cell_type": "code",
   "execution_count": 5,
   "id": "d4d14017",
   "metadata": {},
   "outputs": [
    {
     "data": {
      "text/plain": [
       "'No viewing option available for this sensor.'"
      ]
     },
     "metadata": {},
     "output_type": "display_data"
    }
   ],
   "source": [
    "display(w.viewing_dropdown((w.spacecraft_drop.value,w.sensor_drop.value)))"
   ]
  },
  {
   "cell_type": "markdown",
   "id": "954ef2b7",
   "metadata": {},
   "source": [
    "# Set the date of the event and path to your data folder:"
   ]
  },
  {
   "cell_type": "code",
   "execution_count": 6,
   "id": "bc5ea83c",
   "metadata": {},
   "outputs": [],
   "source": [
    "# Date of the event as an integer YYYYMMDD\n",
    "event_date = 20210715\n",
    "\n",
    "# Path for the downloaded data\n",
    "data_path = f\"{os.getcwd()}/\"\n",
    "\n",
    "# Path to save plots\n",
    "plot_path = f'{os.getcwd()}/'"
   ]
  },
  {
   "cell_type": "markdown",
   "id": "9b4c2e5b",
   "metadata": {},
   "source": [
    "# See that the input is correct:"
   ]
  },
  {
   "cell_type": "code",
   "execution_count": 7,
   "id": "e3a838d9",
   "metadata": {},
   "outputs": [
    {
     "name": "stdout",
     "output_type": "stream",
     "text": [
      "You've chosen the following options:\n",
      "Spacecraft: SOHO\n",
      "Sensor: ERNE\n",
      "Species: p\n",
      "Viewing: None\n",
      "Event_date: 20210715\n",
      "Data_path: /home/chospa/Documents/Github/SPOT/\n",
      "Plot_path: /home/chospa/Documents/Github/SPOT/\n"
     ]
    }
   ],
   "source": [
    "w.update_and_display_input(event_date, data_path, plot_path)"
   ]
  },
  {
   "cell_type": "markdown",
   "id": "5c36daed",
   "metadata": {},
   "source": [
    "# Set the temporal range for the plot and create the Event object:"
   ]
  },
  {
   "cell_type": "code",
   "execution_count": 8,
   "id": "a8703956",
   "metadata": {
    "scrolled": false,
    "tags": []
   },
   "outputs": [],
   "source": [
    "# Plot time range:\n",
    "sdate = datetime.date(2021, 7, 15)\n",
    "edate = datetime.date(2021, 7, 17)\n",
    "plot_range = [datetime.datetime(2021, 7, 15, 0),datetime.datetime(2021, 7, 17, 0)]\n",
    "\n",
    "# Get event data:\n",
    "event_onset = Event(spacecraft=w.input_dict[\"Spacecraft\"], sensor=w.input_dict[\"Sensor\"], \n",
    "                    data_level='l2', species = w.input_dict[\"Species\"],\n",
    "                    start_date=sdate, end_date=edate, \n",
    "                    data_path=w.input_dict[\"Data_path\"])"
   ]
  },
  {
   "cell_type": "code",
   "execution_count": 9,
   "id": "f6092d5b",
   "metadata": {},
   "outputs": [],
   "source": [
    "# I'm not sure what to do with this. -Christian\n",
    "\n",
    "#Particle type for filename\n",
    "particle_type = 'ERNE-HED_p'\n",
    "particle_ch = [3, 4]\n",
    "#Add particle specific folder to file path\n",
    "#file_path = file_path + particle_type + '_' + str(event_date) + '/'"
   ]
  },
  {
   "cell_type": "markdown",
   "id": "449b3415",
   "metadata": {},
   "source": [
    "# Set the resampling period:"
   ]
  },
  {
   "cell_type": "code",
   "execution_count": 10,
   "id": "eef997e5",
   "metadata": {},
   "outputs": [],
   "source": [
    "# Use pandas-compatible resampling period string, e.g. '10min' or '30s'\n",
    "# Leave to None to not resample data\n",
    "averaging = '10min'"
   ]
  },
  {
   "cell_type": "markdown",
   "id": "11c591be",
   "metadata": {},
   "source": [
    "# Determine and adjust background start and length in hours (e.g. 3, 8.1)"
   ]
  },
  {
   "cell_type": "code",
   "execution_count": 11,
   "id": "0acbcd61",
   "metadata": {},
   "outputs": [],
   "source": [
    "background_start = 1\n",
    "background_length = 16"
   ]
  },
  {
   "cell_type": "code",
   "execution_count": 12,
   "id": "2179d683",
   "metadata": {},
   "outputs": [
    {
     "name": "stdout",
     "output_type": "stream",
     "text": [
      "##### >Energy channels< #####\n",
      "25.0 - 40.0 MeV\n",
      "#############################\n",
      "\n",
      "##### >Flux peak< #####\n",
      "Epoch\n",
      "2021-07-16 19:55:00    0.003721\n",
      "Freq: 10T, dtype: float32\n",
      "#######################\n",
      "\n",
      "##### >Onset time< #####\n",
      "2021-07-16 15:25:00\n",
      "########################\n",
      "\n",
      "##### >Mean of background intensity< #####\n",
      "0.00025350504\n",
      "##########################################\n",
      "\n",
      "##### >Std of background intensity< #####\n",
      "7.1471826e-05\n",
      "#########################################\n",
      "\n",
      "##### >Particle species< #####\n",
      "protons\n",
      "##############################\n",
      "\n"
     ]
    },
    {
     "data": {
      "image/png": "[encoded data removed]",
      "text/plain": [
       "<Figure size 1152x576 with 1 Axes>"
      ]
     },
     "metadata": {
      "needs_background": "light"
     },
     "output_type": "display_data"
    }
   ],
   "source": [
    "#Generate event plots for different viewing directions\n",
    "\n",
    "flux, onset_stats, onset_found, peak_flux, peak_time, fig, bg_mean = event_onset.analyse(viewing=w.input_dict[\"Viewing\"], bg_start=background_start, bg_length=background_length, channels=particle_ch,\n",
    "                                                                                         resample_period=averaging, yscale='log', cusum_window=30, xlim=plot_range)\n",
    "onset = onset_stats[-1]\n",
    "peak_flux = peak_flux.values[0]\n",
    "output = event_onset.output"
   ]
  },
  {
   "cell_type": "markdown",
   "id": "9c1269d4",
   "metadata": {},
   "source": [
    "# output is a dictionary, that contains 'flux_series', 'onset_stats', 'onset_found', 'onset', 'peak_flux', 'peak_time', 'fig' and 'bg_mean'"
   ]
  },
  {
   "cell_type": "code",
   "execution_count": 13,
   "id": "b732278a",
   "metadata": {},
   "outputs": [
    {
     "name": "stdout",
     "output_type": "stream",
     "text": [
      "Onset: 2021-07-16 15:25:00\n",
      "Peak flux: 3.72e-03\n",
      "Peak time: 2021-07-16 19:55:00\n",
      "Bg mean: 2.54e-04\n"
     ]
    }
   ],
   "source": [
    "print(f\"Onset: {output['onset']}\")\n",
    "print(f\"Peak flux: {output['peak_flux']:.2e}\")\n",
    "print(f\"Peak time: {output['peak_time']}\")\n",
    "print(f\"Bg mean: {output['bg_mean']:.2e}\")"
   ]
  },
  {
   "cell_type": "code",
   "execution_count": 16,
   "id": "82a66f37",
   "metadata": {},
   "outputs": [
    {
     "data": {
      "text/plain": [
       "0.00025350504"
      ]
     },
     "execution_count": 16,
     "metadata": {},
     "output_type": "execute_result"
    }
   ],
   "source": [
    "output['bg_mean']"
   ]
  },
  {
   "cell_type": "markdown",
   "id": "08f5c653",
   "metadata": {},
   "source": [
    "# Saving figures"
   ]
  },
  {
   "cell_type": "code",
   "execution_count": 36,
   "id": "41a507ee",
   "metadata": {},
   "outputs": [],
   "source": [
    "# Use a pre-generated name for the file:\n",
    "file_name = f\"{w.input_dict['Plot_path']}{w.input_dict['Spacecraft']}_{particle_type}_{event_date}_{averaging}.png\"\n",
    "\n",
    "# Or type your own here:\n",
    "# file_name = \"\""
   ]
  },
  {
   "cell_type": "code",
   "execution_count": 37,
   "id": "d606e489",
   "metadata": {},
   "outputs": [
    {
     "data": {
      "text/plain": [
       "'/home/chospa/Documents/Github/SPOT/SOHO_ERNE-HED_p_20210715_10min.png'"
      ]
     },
     "execution_count": 37,
     "metadata": {},
     "output_type": "execute_result"
    }
   ],
   "source": [
    "# Check that the name is right\n",
    "file_name"
   ]
  },
  {
   "cell_type": "code",
   "execution_count": 38,
   "id": "9756d984",
   "metadata": {},
   "outputs": [],
   "source": [
    "#Save maximum peak flux plot\n",
    "fig.savefig(file_name, facecolor= 'white', transparent=False)"
   ]
  },
  {
   "cell_type": "code",
   "execution_count": null,
   "id": "83df1986",
   "metadata": {},
   "outputs": [],
   "source": []
  }
 ],
 "metadata": {
  "kernelspec": {
   "display_name": "Python 3 (ipykernel)",
   "language": "python",
   "name": "python3"
  },
  "language_info": {
   "codemirror_mode": {
    "name": "ipython",
    "version": 3
   },
   "file_extension": ".py",
   "mimetype": "text/x-python",
   "name": "python",
   "nbconvert_exporter": "python",
   "pygments_lexer": "ipython3",
   "version": "3.9.7"
  }
 },
 "nbformat": 4,
 "nbformat_minor": 5
}
