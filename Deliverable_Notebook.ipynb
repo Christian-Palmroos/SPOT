{
 "cells": [
  {
   "cell_type": "markdown",
   "id": "033738d8",
   "metadata": {},
   "source": [
    "# First import the necessary library"
   ]
  },
  {
   "cell_type": "code",
   "execution_count": 1,
   "id": "148466c5",
   "metadata": {},
   "outputs": [],
   "source": [
    "from onset_functions import *\n",
    "import onset_widgets as w"
   ]
  },
  {
   "cell_type": "markdown",
   "id": "2b3cd405",
   "metadata": {},
   "source": [
    "# Choose spacecraft:"
   ]
  },
  {
   "cell_type": "code",
   "execution_count": 2,
   "id": "76540749",
   "metadata": {},
   "outputs": [
    {
     "data": {
      "application/vnd.jupyter.widget-view+json": {
       "model_id": "8aaeedd50b7742d2880b0aaf1d853536",
       "version_major": 2,
       "version_minor": 0
      },
      "text/plain": [
       "Dropdown(description='Spacecraft:', options=('STEREO-A', 'STEREO-B', 'Solar Orbiter', 'Bepicolombo', 'SOHO'), …"
      ]
     },
     "metadata": {},
     "output_type": "display_data"
    }
   ],
   "source": [
    "display(w.spacecraft_dropdown())"
   ]
  },
  {
   "cell_type": "markdown",
   "id": "2f60317e",
   "metadata": {},
   "source": [
    "# Choose the sensor, particle species and viewing direction:"
   ]
  },
  {
   "cell_type": "code",
   "execution_count": 20,
   "id": "635c9c43",
   "metadata": {},
   "outputs": [
    {
     "data": {
      "application/vnd.jupyter.widget-view+json": {
       "model_id": "9482d70d95c942c6a50c9edf9ad2d01c",
       "version_major": 2,
       "version_minor": 0
      },
      "text/plain": [
       "Dropdown(description='Sensor:', options=('EPT', 'HET'), value='EPT')"
      ]
     },
     "metadata": {},
     "output_type": "display_data"
    }
   ],
   "source": [
    "display(w.sensor_dropdown(w.spacecraft_drop.value))"
   ]
  },
  {
   "cell_type": "code",
   "execution_count": 21,
   "id": "1c1c5bc4",
   "metadata": {},
   "outputs": [
    {
     "data": {
      "application/vnd.jupyter.widget-view+json": {
       "model_id": "20318f7167994205b55239e6508e68ee",
       "version_major": 2,
       "version_minor": 0
      },
      "text/plain": [
       "Dropdown(description='Species:', options=('p', 'e'), value='p')"
      ]
     },
     "metadata": {},
     "output_type": "display_data"
    }
   ],
   "source": [
    "display(w.species_dropdown((w.spacecraft_drop.value,w.sensor_drop.value)))"
   ]
  },
  {
   "cell_type": "code",
   "execution_count": 22,
   "id": "d4d14017",
   "metadata": {},
   "outputs": [
    {
     "data": {
      "application/vnd.jupyter.widget-view+json": {
       "model_id": "6d89aa0197664b4287348a92378ee5ff",
       "version_major": 2,
       "version_minor": 0
      },
      "text/plain": [
       "Dropdown(description='Viewing:', options=('sun', 'asun', 'north', 'south'), value='sun')"
      ]
     },
     "metadata": {},
     "output_type": "display_data"
    }
   ],
   "source": [
    "display(w.viewing_dropdown((w.spacecraft_drop.value,w.sensor_drop.value)))"
   ]
  },
  {
   "cell_type": "markdown",
   "id": "954ef2b7",
   "metadata": {},
   "source": [
    "# Set the date of the event and path to your data folder:"
   ]
  },
  {
   "cell_type": "code",
   "execution_count": 52,
   "id": "bc5ea83c",
   "metadata": {},
   "outputs": [],
   "source": [
    "# Date of the event as an integer YYYYMMDD\n",
    "event_date = 20210715\n",
    "\n",
    "# Path for the downloaded data\n",
    "data_path = f\"{os.getcwd()}\"\n",
    "\n",
    "# Path to save plots\n",
    "plot_path = f'{os.getcwd()}/'"
   ]
  },
  {
   "cell_type": "markdown",
   "id": "9b4c2e5b",
   "metadata": {},
   "source": [
    "# See that the input is correct:"
   ]
  },
  {
   "cell_type": "code",
   "execution_count": 53,
   "id": "e3a838d9",
   "metadata": {},
   "outputs": [
    {
     "name": "stdout",
     "output_type": "stream",
     "text": [
      "You've chosen the following options:\n",
      "Spacecraft: solo\n",
      "Sensor: EPT\n",
      "Species: p\n",
      "Viewing: sun\n",
      "Event_date: 20210715\n",
      "Data_path: /home/chospa/Documents/Github/SPOT\n",
      "Plot_path: /home/chospa/Documents/Github/SPOT/\n"
     ]
    }
   ],
   "source": [
    "w.update_and_display_input(event_date, data_path, plot_path)"
   ]
  },
  {
   "cell_type": "code",
   "execution_count": 54,
   "id": "49ab1295",
   "metadata": {
    "scrolled": false,
    "tags": []
   },
   "outputs": [
    {
     "ename": "ValueError",
     "evalue": "read length must be non-negative or -1",
     "output_type": "error",
     "traceback": [
      "\u001b[0;31m---------------------------------------------------------------------------\u001b[0m",
      "\u001b[0;31mValueError\u001b[0m                                Traceback (most recent call last)",
      "\u001b[0;32m/tmp/ipykernel_6780/3268306527.py\u001b[0m in \u001b[0;36m<module>\u001b[0;34m\u001b[0m\n\u001b[1;32m      4\u001b[0m \u001b[0;34m\u001b[0m\u001b[0m\n\u001b[1;32m      5\u001b[0m \u001b[0;31m# Get event data:\u001b[0m\u001b[0;34m\u001b[0m\u001b[0;34m\u001b[0m\u001b[0m\n\u001b[0;32m----> 6\u001b[0;31m event_onset = Event(spacecraft='solo', sensor='ept', \n\u001b[0m\u001b[1;32m      7\u001b[0m                     \u001b[0mdata_level\u001b[0m\u001b[0;34m=\u001b[0m\u001b[0;34m'l2'\u001b[0m\u001b[0;34m,\u001b[0m \u001b[0mspecies\u001b[0m \u001b[0;34m=\u001b[0m \u001b[0;34m'p'\u001b[0m\u001b[0;34m,\u001b[0m\u001b[0;34m\u001b[0m\u001b[0;34m\u001b[0m\u001b[0m\n\u001b[1;32m      8\u001b[0m                     \u001b[0mstart_date\u001b[0m\u001b[0;34m=\u001b[0m\u001b[0msdate\u001b[0m\u001b[0;34m,\u001b[0m \u001b[0mend_date\u001b[0m\u001b[0;34m=\u001b[0m\u001b[0medate\u001b[0m\u001b[0;34m,\u001b[0m\u001b[0;34m\u001b[0m\u001b[0;34m\u001b[0m\u001b[0m\n",
      "\u001b[0;32m~/Documents/Github/SPOT/onset_functions.py\u001b[0m in \u001b[0;36m__init__\u001b[0;34m(self, start_date, end_date, spacecraft, sensor, species, data_level, data_path, threshold)\u001b[0m\n\u001b[1;32m     50\u001b[0m                       }\n\u001b[1;32m     51\u001b[0m \u001b[0;34m\u001b[0m\u001b[0m\n\u001b[0;32m---> 52\u001b[0;31m         \u001b[0mself\u001b[0m\u001b[0;34m.\u001b[0m\u001b[0mload_all_viewing\u001b[0m\u001b[0;34m(\u001b[0m\u001b[0;34m)\u001b[0m\u001b[0;34m\u001b[0m\u001b[0;34m\u001b[0m\u001b[0m\n\u001b[0m\u001b[1;32m     53\u001b[0m \u001b[0;34m\u001b[0m\u001b[0m\n\u001b[1;32m     54\u001b[0m \u001b[0;34m\u001b[0m\u001b[0m\n",
      "\u001b[0;32m~/Documents/Github/SPOT/onset_functions.py\u001b[0m in \u001b[0;36mload_all_viewing\u001b[0;34m(self)\u001b[0m\n\u001b[1;32m    171\u001b[0m \u001b[0;34m\u001b[0m\u001b[0m\n\u001b[1;32m    172\u001b[0m                 \u001b[0mself\u001b[0m\u001b[0;34m.\u001b[0m\u001b[0mdf_i_north\u001b[0m\u001b[0;34m,\u001b[0m \u001b[0mself\u001b[0m\u001b[0;34m.\u001b[0m\u001b[0mdf_e_north\u001b[0m\u001b[0;34m,\u001b[0m \u001b[0mself\u001b[0m\u001b[0;34m.\u001b[0m\u001b[0menergies_north\u001b[0m \u001b[0;34m=\u001b[0m\u001b[0;31m\\\u001b[0m\u001b[0;34m\u001b[0m\u001b[0;34m\u001b[0m\u001b[0m\n\u001b[0;32m--> 173\u001b[0;31m                     self.load_data(self.spacecraft, self.sensor,\n\u001b[0m\u001b[1;32m    174\u001b[0m                                    'north', self.data_level)\n\u001b[1;32m    175\u001b[0m \u001b[0;34m\u001b[0m\u001b[0m\n",
      "\u001b[0;32m~/Documents/Github/SPOT/onset_functions.py\u001b[0m in \u001b[0;36mload_data\u001b[0;34m(self, spacecraft, sensor, viewing, data_level, autodownload, threshold)\u001b[0m\n\u001b[1;32m     83\u001b[0m \u001b[0;34m\u001b[0m\u001b[0m\n\u001b[1;32m     84\u001b[0m         \u001b[0;32mif\u001b[0m\u001b[0;34m(\u001b[0m\u001b[0mself\u001b[0m\u001b[0;34m.\u001b[0m\u001b[0mspacecraft\u001b[0m \u001b[0;34m==\u001b[0m \u001b[0;34m'solo'\u001b[0m\u001b[0;34m)\u001b[0m\u001b[0;34m:\u001b[0m\u001b[0;34m\u001b[0m\u001b[0;34m\u001b[0m\u001b[0m\n\u001b[0;32m---> 85\u001b[0;31m             df_i, df_e, energs = epd_load(sensor=sensor,\n\u001b[0m\u001b[1;32m     86\u001b[0m                                           \u001b[0mviewing\u001b[0m\u001b[0;34m=\u001b[0m\u001b[0mviewing\u001b[0m\u001b[0;34m,\u001b[0m\u001b[0;34m\u001b[0m\u001b[0;34m\u001b[0m\u001b[0m\n\u001b[1;32m     87\u001b[0m                                           \u001b[0mlevel\u001b[0m\u001b[0;34m=\u001b[0m\u001b[0mdata_level\u001b[0m\u001b[0;34m,\u001b[0m\u001b[0;34m\u001b[0m\u001b[0;34m\u001b[0m\u001b[0m\n",
      "\u001b[0;32m~/anaconda3/lib/python3.9/site-packages/solo_epd_loader/__init__.py\u001b[0m in \u001b[0;36mepd_load\u001b[0;34m(sensor, level, startdate, enddate, viewing, path, autodownload)\u001b[0m\n\u001b[1;32m    524\u001b[0m         \u001b[0;32melse\u001b[0m\u001b[0;34m:\u001b[0m\u001b[0;34m\u001b[0m\u001b[0;34m\u001b[0m\u001b[0m\n\u001b[1;32m    525\u001b[0m             \u001b[0mdf_epd_p\u001b[0m\u001b[0;34m,\u001b[0m \u001b[0mdf_epd_e\u001b[0m\u001b[0;34m,\u001b[0m \u001b[0menergies_dict\u001b[0m \u001b[0;34m=\u001b[0m\u001b[0;31m \u001b[0m\u001b[0;31m\\\u001b[0m\u001b[0;34m\u001b[0m\u001b[0;34m\u001b[0m\u001b[0m\n\u001b[0;32m--> 526\u001b[0;31m                 _read_epd_cdf(sensor, viewing, level, startdate, enddate, path,\n\u001b[0m\u001b[1;32m    527\u001b[0m                               autodownload)\n\u001b[1;32m    528\u001b[0m         \u001b[0;32mreturn\u001b[0m \u001b[0mdf_epd_p\u001b[0m\u001b[0;34m,\u001b[0m \u001b[0mdf_epd_e\u001b[0m\u001b[0;34m,\u001b[0m \u001b[0menergies_dict\u001b[0m\u001b[0;34m\u001b[0m\u001b[0;34m\u001b[0m\u001b[0m\n",
      "\u001b[0;32m~/anaconda3/lib/python3.9/site-packages/solo_epd_loader/__init__.py\u001b[0m in \u001b[0;36m_read_epd_cdf\u001b[0;34m(sensor, viewing, level, startdate, enddate, path, autodownload)\u001b[0m\n\u001b[1;32m    611\u001b[0m \u001b[0;34m\u001b[0m\u001b[0m\n\u001b[1;32m    612\u001b[0m         \u001b[0;31m# load cdf files\u001b[0m\u001b[0;34m\u001b[0m\u001b[0;34m\u001b[0m\u001b[0m\n\u001b[0;32m--> 613\u001b[0;31m         \u001b[0mt_cdf_file\u001b[0m \u001b[0;34m=\u001b[0m \u001b[0mcdflib\u001b[0m\u001b[0;34m.\u001b[0m\u001b[0mCDF\u001b[0m\u001b[0;34m(\u001b[0m\u001b[0mfilelist\u001b[0m\u001b[0;34m[\u001b[0m\u001b[0;36m0\u001b[0m\u001b[0;34m]\u001b[0m\u001b[0;34m)\u001b[0m\u001b[0;34m\u001b[0m\u001b[0;34m\u001b[0m\u001b[0m\n\u001b[0m\u001b[1;32m    614\u001b[0m         \u001b[0mdf_p\u001b[0m \u001b[0;34m=\u001b[0m \u001b[0m_cdf2df\u001b[0m\u001b[0;34m(\u001b[0m\u001b[0mt_cdf_file\u001b[0m\u001b[0;34m,\u001b[0m \u001b[0;34m\"EPOCH\"\u001b[0m\u001b[0;34m)\u001b[0m\u001b[0;34m\u001b[0m\u001b[0;34m\u001b[0m\u001b[0m\n\u001b[1;32m    615\u001b[0m         \u001b[0mdf_e\u001b[0m \u001b[0;34m=\u001b[0m \u001b[0m_cdf2df\u001b[0m\u001b[0;34m(\u001b[0m\u001b[0mt_cdf_file\u001b[0m\u001b[0;34m,\u001b[0m \u001b[0me_epoch\u001b[0m\u001b[0;34m)\u001b[0m\u001b[0;34m\u001b[0m\u001b[0;34m\u001b[0m\u001b[0m\n",
      "\u001b[0;32m~/anaconda3/lib/python3.9/site-packages/cdflib/__init__.py\u001b[0m in \u001b[0;36mCDF\u001b[0;34m(path, cdf_spec, delete, validate)\u001b[0m\n\u001b[1;32m     20\u001b[0m             \u001b[0;32mreturn\u001b[0m\u001b[0;34m\u001b[0m\u001b[0;34m\u001b[0m\u001b[0m\n\u001b[1;32m     21\u001b[0m         \u001b[0;32melse\u001b[0m\u001b[0;34m:\u001b[0m\u001b[0;34m\u001b[0m\u001b[0;34m\u001b[0m\u001b[0m\n\u001b[0;32m---> 22\u001b[0;31m             \u001b[0;32mreturn\u001b[0m \u001b[0mcdfread\u001b[0m\u001b[0;34m.\u001b[0m\u001b[0mCDF\u001b[0m\u001b[0;34m(\u001b[0m\u001b[0mpath\u001b[0m\u001b[0;34m,\u001b[0m \u001b[0mvalidate\u001b[0m\u001b[0;34m=\u001b[0m\u001b[0mvalidate\u001b[0m\u001b[0;34m)\u001b[0m\u001b[0;34m\u001b[0m\u001b[0;34m\u001b[0m\u001b[0m\n\u001b[0m\u001b[1;32m     23\u001b[0m     \u001b[0;32melse\u001b[0m\u001b[0;34m:\u001b[0m\u001b[0;34m\u001b[0m\u001b[0;34m\u001b[0m\u001b[0m\n\u001b[1;32m     24\u001b[0m         \u001b[0;32mreturn\u001b[0m \u001b[0mcdfwrite\u001b[0m\u001b[0;34m.\u001b[0m\u001b[0mCDF\u001b[0m\u001b[0;34m(\u001b[0m\u001b[0mpath\u001b[0m\u001b[0;34m,\u001b[0m \u001b[0mcdf_spec\u001b[0m\u001b[0;34m=\u001b[0m\u001b[0mcdf_spec\u001b[0m\u001b[0;34m,\u001b[0m \u001b[0mdelete\u001b[0m\u001b[0;34m=\u001b[0m\u001b[0mdelete\u001b[0m\u001b[0;34m)\u001b[0m\u001b[0;34m\u001b[0m\u001b[0;34m\u001b[0m\u001b[0m\n",
      "\u001b[0;32m~/anaconda3/lib/python3.9/site-packages/cdflib/cdfread.py\u001b[0m in \u001b[0;36m__init__\u001b[0;34m(self, path, validate, string_encoding)\u001b[0m\n\u001b[1;32m     89\u001b[0m \u001b[0;34m\u001b[0m\u001b[0m\n\u001b[1;32m     90\u001b[0m         \u001b[0;32mif\u001b[0m \u001b[0mself\u001b[0m\u001b[0;34m.\u001b[0m\u001b[0m_compressed\u001b[0m\u001b[0;34m:\u001b[0m\u001b[0;34m\u001b[0m\u001b[0;34m\u001b[0m\u001b[0m\n\u001b[0;32m---> 91\u001b[0;31m             \u001b[0mself\u001b[0m\u001b[0;34m.\u001b[0m\u001b[0m_uncompress_file\u001b[0m\u001b[0;34m(\u001b[0m\u001b[0mpath\u001b[0m\u001b[0;34m)\u001b[0m\u001b[0;34m\u001b[0m\u001b[0;34m\u001b[0m\u001b[0m\n\u001b[0m\u001b[1;32m     92\u001b[0m             \u001b[0;32mif\u001b[0m \u001b[0mself\u001b[0m\u001b[0;34m.\u001b[0m\u001b[0mtemp_file\u001b[0m \u001b[0;32mis\u001b[0m \u001b[0;32mNone\u001b[0m\u001b[0;34m:\u001b[0m\u001b[0;34m\u001b[0m\u001b[0;34m\u001b[0m\u001b[0m\n\u001b[1;32m     93\u001b[0m                 \u001b[0;32mraise\u001b[0m \u001b[0mOSError\u001b[0m\u001b[0;34m(\u001b[0m\u001b[0;34m\"Decompression was unsuccessful.  Only GZIP compression is currently supported.\"\u001b[0m\u001b[0;34m)\u001b[0m\u001b[0;34m\u001b[0m\u001b[0;34m\u001b[0m\u001b[0m\n",
      "\u001b[0;32m~/anaconda3/lib/python3.9/site-packages/cdflib/cdfread.py\u001b[0m in \u001b[0;36m_uncompress_file\u001b[0;34m(self, path)\u001b[0m\n\u001b[1;32m    711\u001b[0m         \u001b[0;32mwith\u001b[0m \u001b[0mself\u001b[0m\u001b[0;34m.\u001b[0m\u001b[0mfile\u001b[0m\u001b[0;34m.\u001b[0m\u001b[0mopen\u001b[0m\u001b[0;34m(\u001b[0m\u001b[0;34m'rb'\u001b[0m\u001b[0;34m)\u001b[0m \u001b[0;32mas\u001b[0m \u001b[0mf\u001b[0m\u001b[0;34m:\u001b[0m\u001b[0;34m\u001b[0m\u001b[0;34m\u001b[0m\u001b[0m\n\u001b[1;32m    712\u001b[0m             \u001b[0;32mif\u001b[0m \u001b[0;34m(\u001b[0m\u001b[0mself\u001b[0m\u001b[0;34m.\u001b[0m\u001b[0mcdfversion\u001b[0m \u001b[0;34m==\u001b[0m \u001b[0;36m3\u001b[0m\u001b[0;34m)\u001b[0m\u001b[0;34m:\u001b[0m\u001b[0;34m\u001b[0m\u001b[0;34m\u001b[0m\u001b[0m\n\u001b[0;32m--> 713\u001b[0;31m                 \u001b[0mdata_start\u001b[0m\u001b[0;34m,\u001b[0m \u001b[0mdata_size\u001b[0m\u001b[0;34m,\u001b[0m \u001b[0mcType\u001b[0m\u001b[0;34m,\u001b[0m \u001b[0m_\u001b[0m \u001b[0;34m=\u001b[0m \u001b[0mself\u001b[0m\u001b[0;34m.\u001b[0m\u001b[0m_read_ccr\u001b[0m\u001b[0;34m(\u001b[0m\u001b[0;36m8\u001b[0m\u001b[0;34m)\u001b[0m\u001b[0;34m\u001b[0m\u001b[0;34m\u001b[0m\u001b[0m\n\u001b[0m\u001b[1;32m    714\u001b[0m             \u001b[0;32melse\u001b[0m\u001b[0;34m:\u001b[0m\u001b[0;34m\u001b[0m\u001b[0;34m\u001b[0m\u001b[0m\n\u001b[1;32m    715\u001b[0m                 \u001b[0mdata_start\u001b[0m\u001b[0;34m,\u001b[0m \u001b[0mdata_size\u001b[0m\u001b[0;34m,\u001b[0m \u001b[0mcType\u001b[0m\u001b[0;34m,\u001b[0m \u001b[0m_\u001b[0m \u001b[0;34m=\u001b[0m \u001b[0mself\u001b[0m\u001b[0;34m.\u001b[0m\u001b[0m_read_ccr2\u001b[0m\u001b[0;34m(\u001b[0m\u001b[0;36m8\u001b[0m\u001b[0;34m)\u001b[0m\u001b[0;34m\u001b[0m\u001b[0;34m\u001b[0m\u001b[0m\n",
      "\u001b[0;32m~/anaconda3/lib/python3.9/site-packages/cdflib/cdfread.py\u001b[0m in \u001b[0;36m_read_ccr\u001b[0;34m(self, byte_loc)\u001b[0m\n\u001b[1;32m    735\u001b[0m         \u001b[0mdata_start\u001b[0m \u001b[0;34m=\u001b[0m \u001b[0mbyte_loc\u001b[0m \u001b[0;34m+\u001b[0m \u001b[0;36m32\u001b[0m\u001b[0;34m\u001b[0m\u001b[0;34m\u001b[0m\u001b[0m\n\u001b[1;32m    736\u001b[0m         \u001b[0mdata_size\u001b[0m \u001b[0;34m=\u001b[0m \u001b[0mblock_size\u001b[0m \u001b[0;34m-\u001b[0m \u001b[0;36m32\u001b[0m\u001b[0;34m\u001b[0m\u001b[0;34m\u001b[0m\u001b[0m\n\u001b[0;32m--> 737\u001b[0;31m         \u001b[0mcType\u001b[0m\u001b[0;34m,\u001b[0m \u001b[0mcParams\u001b[0m \u001b[0;34m=\u001b[0m \u001b[0mself\u001b[0m\u001b[0;34m.\u001b[0m\u001b[0m_read_cpr\u001b[0m\u001b[0;34m(\u001b[0m\u001b[0mcproffset\u001b[0m\u001b[0;34m)\u001b[0m\u001b[0;34m\u001b[0m\u001b[0;34m\u001b[0m\u001b[0m\n\u001b[0m\u001b[1;32m    738\u001b[0m \u001b[0;34m\u001b[0m\u001b[0m\n\u001b[1;32m    739\u001b[0m         \u001b[0;32mreturn\u001b[0m \u001b[0mdata_start\u001b[0m\u001b[0;34m,\u001b[0m \u001b[0mdata_size\u001b[0m\u001b[0;34m,\u001b[0m \u001b[0mcType\u001b[0m\u001b[0;34m,\u001b[0m \u001b[0mcParams\u001b[0m\u001b[0;34m\u001b[0m\u001b[0;34m\u001b[0m\u001b[0m\n",
      "\u001b[0;32m~/anaconda3/lib/python3.9/site-packages/cdflib/cdfread.py\u001b[0m in \u001b[0;36m_read_cpr\u001b[0;34m(self, byte_loc)\u001b[0m\n\u001b[1;32m    754\u001b[0m     \u001b[0;32mdef\u001b[0m \u001b[0m_read_cpr\u001b[0m\u001b[0;34m(\u001b[0m\u001b[0mself\u001b[0m\u001b[0;34m,\u001b[0m \u001b[0mbyte_loc\u001b[0m\u001b[0;34m)\u001b[0m\u001b[0;34m:\u001b[0m\u001b[0;34m\u001b[0m\u001b[0;34m\u001b[0m\u001b[0m\n\u001b[1;32m    755\u001b[0m         \u001b[0;32mif\u001b[0m \u001b[0mself\u001b[0m\u001b[0;34m.\u001b[0m\u001b[0mcdfversion\u001b[0m \u001b[0;34m==\u001b[0m \u001b[0;36m3\u001b[0m\u001b[0;34m:\u001b[0m\u001b[0;34m\u001b[0m\u001b[0;34m\u001b[0m\u001b[0m\n\u001b[0;32m--> 756\u001b[0;31m             \u001b[0;32mreturn\u001b[0m \u001b[0mself\u001b[0m\u001b[0;34m.\u001b[0m\u001b[0m_read_cpr3\u001b[0m\u001b[0;34m(\u001b[0m\u001b[0mbyte_loc\u001b[0m\u001b[0;34m)\u001b[0m\u001b[0;34m\u001b[0m\u001b[0;34m\u001b[0m\u001b[0m\n\u001b[0m\u001b[1;32m    757\u001b[0m         \u001b[0;32melse\u001b[0m\u001b[0;34m:\u001b[0m\u001b[0;34m\u001b[0m\u001b[0;34m\u001b[0m\u001b[0m\n\u001b[1;32m    758\u001b[0m             \u001b[0;32mreturn\u001b[0m \u001b[0mself\u001b[0m\u001b[0;34m.\u001b[0m\u001b[0m_read_cpr2\u001b[0m\u001b[0;34m(\u001b[0m\u001b[0mbyte_loc\u001b[0m\u001b[0;34m)\u001b[0m\u001b[0;34m\u001b[0m\u001b[0;34m\u001b[0m\u001b[0m\n",
      "\u001b[0;32m~/anaconda3/lib/python3.9/site-packages/cdflib/cdfread.py\u001b[0m in \u001b[0;36m_read_cpr3\u001b[0;34m(self, byte_loc)\u001b[0m\n\u001b[1;32m    762\u001b[0m             \u001b[0mf\u001b[0m\u001b[0;34m.\u001b[0m\u001b[0mseek\u001b[0m\u001b[0;34m(\u001b[0m\u001b[0mbyte_loc\u001b[0m\u001b[0;34m,\u001b[0m \u001b[0;36m0\u001b[0m\u001b[0;34m)\u001b[0m\u001b[0;34m\u001b[0m\u001b[0;34m\u001b[0m\u001b[0m\n\u001b[1;32m    763\u001b[0m             \u001b[0mblock_size\u001b[0m \u001b[0;34m=\u001b[0m \u001b[0mint\u001b[0m\u001b[0;34m.\u001b[0m\u001b[0mfrom_bytes\u001b[0m\u001b[0;34m(\u001b[0m\u001b[0mf\u001b[0m\u001b[0;34m.\u001b[0m\u001b[0mread\u001b[0m\u001b[0;34m(\u001b[0m\u001b[0;36m8\u001b[0m\u001b[0;34m)\u001b[0m\u001b[0;34m,\u001b[0m \u001b[0;34m'big'\u001b[0m\u001b[0;34m)\u001b[0m\u001b[0;34m\u001b[0m\u001b[0;34m\u001b[0m\u001b[0m\n\u001b[0;32m--> 764\u001b[0;31m             \u001b[0mcpr\u001b[0m \u001b[0;34m=\u001b[0m \u001b[0mf\u001b[0m\u001b[0;34m.\u001b[0m\u001b[0mread\u001b[0m\u001b[0;34m(\u001b[0m\u001b[0mblock_size\u001b[0m\u001b[0;34m-\u001b[0m\u001b[0;36m8\u001b[0m\u001b[0;34m)\u001b[0m\u001b[0;34m\u001b[0m\u001b[0;34m\u001b[0m\u001b[0m\n\u001b[0m\u001b[1;32m    765\u001b[0m \u001b[0;34m\u001b[0m\u001b[0m\n\u001b[1;32m    766\u001b[0m         \u001b[0mcType\u001b[0m \u001b[0;34m=\u001b[0m \u001b[0mint\u001b[0m\u001b[0;34m.\u001b[0m\u001b[0mfrom_bytes\u001b[0m\u001b[0;34m(\u001b[0m\u001b[0mcpr\u001b[0m\u001b[0;34m[\u001b[0m\u001b[0;36m4\u001b[0m\u001b[0;34m:\u001b[0m\u001b[0;36m8\u001b[0m\u001b[0;34m]\u001b[0m\u001b[0;34m,\u001b[0m \u001b[0;34m'big'\u001b[0m\u001b[0;34m)\u001b[0m\u001b[0;34m\u001b[0m\u001b[0;34m\u001b[0m\u001b[0m\n",
      "\u001b[0;31mValueError\u001b[0m: read length must be non-negative or -1"
     ]
    }
   ],
   "source": [
    "# Plot time range:\n",
    "sdate = datetime.date(2021, 7, 15)\n",
    "edate = datetime.date(2021, 7, 16)\n",
    "\n",
    "# Get event data:\n",
    "event_onset = Event(spacecraft='solo', sensor='ept', \n",
    "                    data_level='l2', species = 'p',\n",
    "                    start_date=sdate, end_date=edate, \n",
    "                    data_path=data_path)"
   ]
  },
  {
   "cell_type": "markdown",
   "id": "5c36daed",
   "metadata": {},
   "source": [
    "# Set the temporal range for the plot and create the Event object:"
   ]
  },
  {
   "cell_type": "code",
   "execution_count": 31,
   "id": "a8703956",
   "metadata": {
    "scrolled": false,
    "tags": []
   },
   "outputs": [
    {
     "name": "stdout",
     "output_type": "stream",
     "text": [
      "Creating dir /home/chospa/Documents/Github/SPOT/l2/epd/ept/l2/epd/ept/\n"
     ]
    },
    {
     "name": "stderr",
     "output_type": "stream",
     "text": [
      "solo_L2_epd-ept-asun-rates_20210715_V01.cdf: 1.29MB [00:01, 650kB/s]            \n",
      "solo_L2_epd-ept-asun-rates_20210716_V01.cdf: 2.88MB [00:03, 892kB/s]            \n",
      "solo_L2_epd-ept-north-rates_20210715_V01.cdf: 1.29MB [00:04, 308kB/s]           \n",
      "solo_L2_epd-ept-north-rates_20210716_V01.cdf: 2.98MB [00:06, 454kB/s]           \n",
      "solo_L2_epd-ept-south-rates_20210715_V01.cdf: 1.29MB [00:04, 320kB/s]           \n",
      "solo_L2_epd-ept-south-rates_20210716_V01.cdf: 3.06MB [00:07, 394kB/s]           \n",
      "solo_L2_epd-ept-sun-rates_20210715_V01.cdf: 1.31MB [00:02, 610kB/s]             \n",
      "solo_L2_epd-ept-sun-rates_20210716_V01.cdf: 3.59MB [00:03, 944kB/s]             \n"
     ]
    }
   ],
   "source": [
    "# Plot time range:\n",
    "sdate = datetime.date(2021, 7, 15)\n",
    "edate = datetime.date(2021, 7, 16)\n",
    "plot_range = [datetime.datetime(2021, 7, 15, 0),datetime.datetime(2021, 7, 16, 0)]\n",
    "\n",
    "# Get event data:\n",
    "event_onset = Event(spacecraft=w.input_dict[\"Spacecraft\"], sensor=w.input_dict[\"Sensor\"], \n",
    "                    data_level='l2', species = w.input_dict[\"Species\"],\n",
    "                    start_date=sdate, end_date=edate, \n",
    "                    data_path=w.input_dict[\"Data_path\"])"
   ]
  },
  {
   "cell_type": "code",
   "execution_count": 38,
   "id": "f6092d5b",
   "metadata": {},
   "outputs": [],
   "source": [
    "# I'm not sure what to do with this. -Christian\n",
    "\n",
    "#Particle type for filename\n",
    "particle_type = 'ERNE-HED_p'\n",
    "particle_ch = [0,1] #[3, 4]\n",
    "#Add particle specific folder to file path\n",
    "#file_path = file_path + particle_type + '_' + str(event_date) + '/'"
   ]
  },
  {
   "cell_type": "markdown",
   "id": "449b3415",
   "metadata": {},
   "source": [
    "# Set the resampling period:"
   ]
  },
  {
   "cell_type": "code",
   "execution_count": 39,
   "id": "eef997e5",
   "metadata": {},
   "outputs": [],
   "source": [
    "# Use pandas-compatible resampling period string, e.g. '10min' or '30s'\n",
    "# Leave to None to not resample data\n",
    "averaging = '10min'"
   ]
  },
  {
   "cell_type": "markdown",
   "id": "11c591be",
   "metadata": {},
   "source": [
    "# Determine and adjust background start and length in hours (e.g. 3, 8.1)"
   ]
  },
  {
   "cell_type": "code",
   "execution_count": 40,
   "id": "0acbcd61",
   "metadata": {},
   "outputs": [],
   "source": [
    "background_start = 1\n",
    "background_length = 16"
   ]
  },
  {
   "cell_type": "code",
   "execution_count": 41,
   "id": "2179d683",
   "metadata": {},
   "outputs": [
    {
     "name": "stdout",
     "output_type": "stream",
     "text": [
      "solo\n",
      "solo\n",
      "True\n",
      "ept\n",
      "ept\n",
      "True\n",
      "p\n",
      "e\n",
      "False\n",
      "##### >Energy channels< #####\n",
      "0.0485 - 0.0580 MeV\n",
      "#############################\n",
      "\n",
      "##### >Flux peak< #####\n",
      "                            flux\n",
      "Time                            \n",
      "2021-07-15 04:05:00  2065.930908\n",
      "#######################\n",
      "\n",
      "##### >Onset time< #####\n",
      "2021-07-16 04:55:00\n",
      "########################\n",
      "\n",
      "##### >Mean of background intensity< #####\n",
      "773.26556\n",
      "##########################################\n",
      "\n",
      "##### >Std of background intensity< #####\n",
      "333.33902\n",
      "#########################################\n",
      "\n",
      "##### >Particle species< #####\n",
      "protons\n",
      "##############################\n",
      "\n"
     ]
    },
    {
     "data": {
      "image/png": "[encoded data removed]",
      "text/plain": [
       "<Figure size 1152x576 with 1 Axes>"
      ]
     },
     "metadata": {
      "needs_background": "light"
     },
     "output_type": "display_data"
    }
   ],
   "source": [
    "#Generate event plots for different viewing directions\n",
    "\n",
    "flux, onset_stats, onset_found, peak_flux, peak_time, fig, bg_mean = event_onset.analyse(viewing=w.input_dict[\"Viewing\"], bg_start=background_start, bg_length=background_length, channels=particle_ch,\n",
    "                                                                                         resample_period=averaging, yscale='log', cusum_window=30, xlim=plot_range)\n",
    "onset = onset_stats[-1]\n",
    "peak_flux = peak_flux.values[0]\n",
    "output = event_onset.output"
   ]
  },
  {
   "cell_type": "markdown",
   "id": "9c1269d4",
   "metadata": {},
   "source": [
    "# output is a dictionary, that contains 'flux_series', 'onset_stats', 'onset_found', 'onset', 'peak_flux', 'peak_time', 'fig' and 'bg_mean'"
   ]
  },
  {
   "cell_type": "code",
   "execution_count": 13,
   "id": "b732278a",
   "metadata": {},
   "outputs": [
    {
     "name": "stdout",
     "output_type": "stream",
     "text": [
      "Onset: 2021-07-16 15:25:00\n",
      "Peak flux: 3.72e-03\n",
      "Peak time: 2021-07-16 19:55:00\n",
      "Bg mean: 2.54e-04\n"
     ]
    }
   ],
   "source": [
    "print(f\"Onset: {output['onset']}\")\n",
    "print(f\"Peak flux: {output['peak_flux']:.2e}\")\n",
    "print(f\"Peak time: {output['peak_time']}\")\n",
    "print(f\"Bg mean: {output['bg_mean']:.2e}\")"
   ]
  },
  {
   "cell_type": "code",
   "execution_count": 16,
   "id": "28c2bce0",
   "metadata": {},
   "outputs": [
    {
     "data": {
      "text/plain": [
       "0.00025350504"
      ]
     },
     "execution_count": 16,
     "metadata": {},
     "output_type": "execute_result"
    }
   ],
   "source": [
    "output['bg_mean']"
   ]
  },
  {
   "cell_type": "markdown",
   "id": "08f5c653",
   "metadata": {},
   "source": [
    "# Saving figures"
   ]
  },
  {
   "cell_type": "code",
   "execution_count": 36,
   "id": "41a507ee",
   "metadata": {},
   "outputs": [],
   "source": [
    "# Use a pre-generated name for the file:\n",
    "file_name = f\"{w.input_dict['Plot_path']}{w.input_dict['Spacecraft']}_{particle_type}_{event_date}_{averaging}.png\"\n",
    "\n",
    "# Or type your own here:\n",
    "# file_name = \"\""
   ]
  },
  {
   "cell_type": "code",
   "execution_count": 37,
   "id": "d606e489",
   "metadata": {},
   "outputs": [
    {
     "data": {
      "text/plain": [
       "'/home/chospa/Documents/Github/SPOT/SOHO_ERNE-HED_p_20210715_10min.png'"
      ]
     },
     "execution_count": 37,
     "metadata": {},
     "output_type": "execute_result"
    }
   ],
   "source": [
    "# Check that the name is right\n",
    "file_name"
   ]
  },
  {
   "cell_type": "code",
   "execution_count": 38,
   "id": "9756d984",
   "metadata": {},
   "outputs": [],
   "source": [
    "#Save maximum peak flux plot\n",
    "fig.savefig(file_name, facecolor= 'white', transparent=False)"
   ]
  },
  {
   "cell_type": "code",
   "execution_count": null,
   "id": "83df1986",
   "metadata": {},
   "outputs": [],
   "source": []
  }
 ],
 "metadata": {
  "kernelspec": {
   "display_name": "Python 3 (ipykernel)",
   "language": "python",
   "name": "python3"
  },
  "language_info": {
   "codemirror_mode": {
    "name": "ipython",
    "version": 3
   },
   "file_extension": ".py",
   "mimetype": "text/x-python",
   "name": "python",
   "nbconvert_exporter": "python",
   "pygments_lexer": "ipython3",
   "version": "3.9.7"
  }
 },
 "nbformat": 4,
 "nbformat_minor": 5
}
